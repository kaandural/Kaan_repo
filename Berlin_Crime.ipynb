{
 "cells": [
  {
   "cell_type": "markdown",
   "id": "2f1eec74-09c3-4d02-9e19-fd6de4531d07",
   "metadata": {},
   "source": [
    "### Berlin Crime Scene | Data Visualisation Project"
   ]
  },
  {
   "cell_type": "markdown",
   "id": "b83e66ad-9f9d-4c6f-9354-555ce3137a8c",
   "metadata": {},
   "source": [
    "this is a EDA project taking into consideration of all different crime rates ranked by police berlin for the years 2013-2023.\n",
    "all the crime is categorized and onto spatial map of berlin. \n",
    "tools used\n",
    "process\n",
    "outcome\n",
    "presentation\n",
    "tableau embedded "
   ]
  },
  {
   "cell_type": "code",
   "execution_count": null,
   "id": "e70bf284-fba7-4a86-ba77-38b9e3571d6f",
   "metadata": {},
   "outputs": [],
   "source": [
    "#Please refer to the presentation above for more information: \n",
    "\n",
    "    https://www.canva.com/design/DAFnNqH_ylc/zgWPTm8lWk5E9lndSpJxdg/edit?utm_content=DAFnNqH_ylc&utm_campaign=designshare&utm_medium=link2&utm_source=sharebutton"
   ]
  },
  {
   "cell_type": "code",
   "execution_count": null,
   "id": "9461035e-7cd4-4a96-85f4-35354be3da58",
   "metadata": {},
   "outputs": [],
   "source": [
    "#Tableau \n"
   ]
  }
 ],
 "metadata": {
  "kernelspec": {
   "display_name": "Python 3 (ipykernel)",
   "language": "python",
   "name": "python3"
  },
  "language_info": {
   "codemirror_mode": {
    "name": "ipython",
    "version": 3
   },
   "file_extension": ".py",
   "mimetype": "text/x-python",
   "name": "python",
   "nbconvert_exporter": "python",
   "pygments_lexer": "ipython3",
   "version": "3.10.9"
  }
 },
 "nbformat": 4,
 "nbformat_minor": 5
}
