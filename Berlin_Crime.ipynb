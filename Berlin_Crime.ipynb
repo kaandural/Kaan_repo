{
 "cells": [
  {
   "cell_type": "markdown",
   "id": "2f1eec74-09c3-4d02-9e19-fd6de4531d07",
   "metadata": {},
   "source": [
    "### Berlin Crime Scene | Data Visualisation Project"
   ]
  },
  {
   "cell_type": "markdown",
   "id": "b83e66ad-9f9d-4c6f-9354-555ce3137a8c",
   "metadata": {},
   "source": [
    "This is a EDA project taking into consideration of all different crime rates ranked by Berlin Police for the years 2013-2023.\n",
    "\n",
    "All the crime is categorized and added onto the spatial map of Berlin.\n",
    "\n",
    "tools used: Python and Tableau\n",
    "\n",
    "Data Sources: \n",
    "https://www.berlin.de/polizei/service/kriminalitaetsatlas/ Wikipedia: https://en.wikipedia.org/wiki/Demographics_of_Berlin Lebensweltlich orientierte Räume (LOR) - Planungsräume: https://daten.odis-berlin.de/de/dataset/lor_planungsgraeume/"
   ]
  },
  {
   "cell_type": "code",
   "execution_count": null,
   "id": "e70bf284-fba7-4a86-ba77-38b9e3571d6f",
   "metadata": {},
   "outputs": [],
   "source": [
    "#Please refer to the presentation above for more information: \n",
    "\n",
    "    #https://www.canva.com/design/DAFnNqH_ylc/zgWPTm8lWk5E9lndSpJxdg/edit?utm_content=DAFnNqH_ylc&utm_campaign=designshare&utm_medium=link2&utm_source=sharebutton"
   ]
  },
  {
   "cell_type": "code",
   "execution_count": null,
   "id": "9461035e-7cd4-4a96-85f4-35354be3da58",
   "metadata": {},
   "outputs": [],
   "source": [
    "#Tableau \n",
    "    #Interactive map of Berlin \n",
    "#https://public.tableau.com/views/Mid-term-tableau_16880563715660/Dashboard2?:language=en-US&:display_count=n&:origin=viz_share_link"
   ]
  },
  {
   "cell_type": "markdown",
   "id": "adea876e",
   "metadata": {},
   "source": [
    "## Data Cleaning Part of The Project"
   ]
  },
  {
   "cell_type": "code",
   "execution_count": null,
   "id": "a0ce5f80",
   "metadata": {},
   "outputs": [],
   "source": [
    "import pandas as pd\n",
    "import numpy as np\n",
    "import matplotlib.pyplot as plt\n",
    "pd.set_option('display.max_columns', 500)"
   ]
  },
  {
   "cell_type": "code",
   "execution_count": null,
   "id": "d080fb65",
   "metadata": {},
   "outputs": [],
   "source": [
    "df = pd.read_csv(\"file:///Users/Kaan/Desktop/concat_12_22.csv\")\n",
    "df = df.replace(',', '', regex=True)\n",
    "df = df.drop('level_0',axis =1)\n",
    "df = df.drop('index',axis =1)"
   ]
  },
  {
   "cell_type": "code",
   "execution_count": null,
   "id": "2283ca9b",
   "metadata": {},
   "outputs": [],
   "source": [
    "filtered_df = df[df['Year'] == 2018]\n",
    "filtered_df"
   ]
  },
  {
   "cell_type": "code",
   "execution_count": null,
   "id": "8ce5ee7f",
   "metadata": {},
   "outputs": [],
   "source": [
    "df.to_csv('df.csv', index=False)\n",
    "concat_12_22 = pd.concat(dfs,axis=0) \n",
    "concat_12_22"
   ]
  },
  {
   "cell_type": "code",
   "execution_count": null,
   "id": "f60fbc2d",
   "metadata": {},
   "outputs": [],
   "source": [
    "df.loc[df['Year'] == 2012, 'City_population'] = 3476000\n",
    "df.loc[df['Year'] == 2013, 'City_population'] = 3488000\n",
    "df.loc[df['Year'] == 2014, 'City_population'] = 3501000\n",
    "df.loc[df['Year'] == 2015, 'City_population'] = 3514000\n",
    "df.loc[df['Year'] == 2016, 'City_population'] = 3526000\n",
    "df.loc[df['Year'] == 2017, 'City_population'] = 3539000\n",
    "df.loc[df['Year'] == 2018, 'City_population'] = 3552000\n",
    "df.loc[df['Year'] == 2019, 'City_population'] = 3557000\n",
    "df.loc[df['Year'] == 2020, 'City_population'] = 3562000\n",
    "df.loc[df['Year'] == 2021, 'City_population'] = 3567000\n",
    "df.loc[df['Year'] == 2022, 'City_population'] = 3571000\n",
    "df['City_population'] = df['City_population'].astype(int)"
   ]
  },
  {
   "cell_type": "code",
   "execution_count": null,
   "id": "a79e0483",
   "metadata": {},
   "outputs": [],
   "source": [
    "df.info()"
   ]
  },
  {
   "cell_type": "code",
   "execution_count": null,
   "id": "ff62a9b5",
   "metadata": {},
   "outputs": [],
   "source": [
    "columns_to_convert = ['Injury', 'Agg_assault', 'Threat', 'Total', 'Theft', 'From_car', 'Bike', 'Damage', 'Graffiti', 'Drugs', 'Local']\n",
    "\n",
    "for column in columns_to_convert:\n",
    "    df[column] = pd.to_numeric(df[column], errors='coerce').astype('Int64')"
   ]
  },
  {
   "cell_type": "code",
   "execution_count": null,
   "id": "b9577e0e",
   "metadata": {},
   "outputs": [],
   "source": [
    "df['Larceny_type'] = df['Theft'] + df['Car'] + df['From_car'] + df['Bike']\n",
    "df['Property_damage_type'] = df['Damage'] + df['Graffiti']\n",
    "df['Violent_crimes_type'] = df['Robbery'] + df['Street_robbery'] + df['Threat'] + df['Agg_assault']\n",
    "df['Drugs_type'] = df['Drugs']\n",
    "df['Pyro_type'] = df['Arson'] + df['Fire']\n",
    "df['Injury_type'] = df['Injury']"
   ]
  },
  {
   "cell_type": "code",
   "execution_count": null,
   "id": "a3c90985",
   "metadata": {},
   "outputs": [],
   "source": [
    "columns_to_sum = ['Larceny_type', 'Property_damage_type', 'Violent_crimes_type', 'Drugs_type', 'Pyro_type', 'Injury_type']\n",
    "sum_per_year = df.groupby('Year')[columns_to_sum].sum()\n",
    "print(sum_per_year)"
   ]
  },
  {
   "cell_type": "code",
   "execution_count": null,
   "id": "bca2811a",
   "metadata": {},
   "outputs": [],
   "source": [
    "total_per_year = df.groupby('Year')['Total'].sum()\n",
    "print('Total Crimes',total_per_year)"
   ]
  },
  {
   "cell_type": "code",
   "execution_count": null,
   "id": "6a156ee4",
   "metadata": {},
   "outputs": [],
   "source": [
    "#find overall total per district and rank in descending order\n",
    "\n",
    "district_totals = df.groupby('District')[df.columns[4:19]].sum().sum(axis=1)\n",
    "district_totals = district_totals.sort_values(ascending=False)\n",
    "print(district_totals)\n",
    "\n",
    "#Kaan added the plot, just to put on the presentation \n",
    "plt.figure(figsize=(10, 6))\n",
    "district_totals.plot(kind='bar')\n",
    "plt.xlabel('District')\n",
    "plt.ylabel('Total_Crime')\n",
    "plt.title('District Totals')\n",
    "\n",
    "plt.show()"
   ]
  },
  {
   "cell_type": "code",
   "execution_count": null,
   "id": "d2abfe2f",
   "metadata": {},
   "outputs": [],
   "source": [
    "print(concat_12_22['City_population'].info())\n",
    "concat_12_22['Total'] = pd.to_numeric(concat_12_22['Total'], errors='coerce').fillna(0).astype(int)"
   ]
  },
  {
   "cell_type": "code",
   "execution_count": null,
   "id": "dba9e787",
   "metadata": {},
   "outputs": [],
   "source": [
    "for column in columns_to_convert:\n",
    "    concat_12_22[column] = pd.to_numeric(concat_12_22[column].str.replace(',', ''), errors='coerce')\n",
    "    concat_12_22[column] = concat_12_22[column].fillna(0).astype(int)"
   ]
  },
  {
   "cell_type": "code",
   "execution_count": null,
   "id": "c4601826",
   "metadata": {},
   "outputs": [],
   "source": [
    "import pandas as pd\n",
    "import math\n",
    "\n",
    "concat_12_22['City_population'] = pd.to_numeric(concat_12_22['City_population'], errors='coerce')\n",
    "concat_12_22['Total'] = pd.to_numeric(concat_12_22['Total'], errors='coerce')\n",
    "\n",
    "concat_12_22['City_population'] = concat_12_22.groupby('Year')['City_population'].transform('first')\n",
    "concat_12_22['Crimes per 1000'] = (concat_12_22['Total'] / concat_12_22['City_population']) * 1000\n",
    "concat_12_22['Crimes per 1000'] = concat_12_22['Crimes per 1000'].apply(math.ceil)\n",
    "crime_per_capita = concat_12_22[['Year', 'City_population', 'Total', 'Crimes per 1000']].drop_duplicates('Year')\n",
    "print(crime_per_capita)"
   ]
  },
  {
   "cell_type": "code",
   "execution_count": null,
   "id": "e5b7311e",
   "metadata": {},
   "outputs": [],
   "source": [
    "concat_12_22[\"Total\"] = concat_12_22.groupby([\"\"])"
   ]
  }
 ],
 "metadata": {
  "kernelspec": {
   "display_name": "Python 3 (ipykernel)",
   "language": "python",
   "name": "python3"
  },
  "language_info": {
   "codemirror_mode": {
    "name": "ipython",
    "version": 3
   },
   "file_extension": ".py",
   "mimetype": "text/x-python",
   "name": "python",
   "nbconvert_exporter": "python",
   "pygments_lexer": "ipython3",
   "version": "3.10.9"
  }
 },
 "nbformat": 4,
 "nbformat_minor": 5
}
